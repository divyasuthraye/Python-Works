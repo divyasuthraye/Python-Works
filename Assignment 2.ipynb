{
 "cells": [
  {
   "cell_type": "markdown",
   "metadata": {},
   "source": [
    "# 1. What data type is each of the following?\n",
    "\n",
    "5<br>\n",
    "Integer\n",
    "\n",
    "5.0<br>\n",
    "Float \n",
    "\n",
    "5>1<br>\n",
    "Boolean Expression\n",
    "\n",
    "'5'<br>\n",
    "String\n",
    "\n",
    "5 * 2<br>\n",
    "Integer\n",
    "\n",
    "'5' * 2<br>\n",
    "String\n",
    "\n",
    "'5' + '2'<br>\n",
    "String\n",
    "\n",
    "5 / 2<br>\n",
    "Float\n",
    "\n",
    "5 // 2<br>\n",
    "Integer\n",
    "\n",
    "[5, 2 , 1]<br>\n",
    "List\n",
    "\n",
    "5 in [1, 4, 6]<br>\n",
    "Boolean Expression\n",
    "\n",
    "math.pi<br> \n",
    "Float"
   ]
  },
  {
   "cell_type": "code",
   "execution_count": 22,
   "metadata": {},
   "outputs": [
    {
     "data": {
      "text/plain": [
       "1234567654321"
      ]
     },
     "execution_count": 22,
     "metadata": {},
     "output_type": "execute_result"
    }
   ],
   "source": [
    "# Answer 2a\n",
    "\n",
    "1111111 * 1111111"
   ]
  },
  {
   "cell_type": "code",
   "execution_count": 23,
   "metadata": {},
   "outputs": [
    {
     "data": {
      "text/plain": [
       "12"
      ]
     },
     "execution_count": 23,
     "metadata": {},
     "output_type": "execute_result"
    }
   ],
   "source": [
    "# Answer 2b\n",
    "1000 // 81 # quotient symbol //"
   ]
  },
  {
   "cell_type": "code",
   "execution_count": 4,
   "metadata": {},
   "outputs": [
    {
     "data": {
      "text/plain": [
       "28"
      ]
     },
     "execution_count": 4,
     "metadata": {},
     "output_type": "execute_result"
    }
   ],
   "source": [
    "# Answer 2c\n",
    "1000 % 81 # remainder symbol %"
   ]
  },
  {
   "cell_type": "code",
   "execution_count": 7,
   "metadata": {},
   "outputs": [
    {
     "data": {
      "text/plain": [
       "90.66666666666667"
      ]
     },
     "execution_count": 7,
     "metadata": {},
     "output_type": "execute_result"
    }
   ],
   "source": [
    "# Answer 2d\n",
    "x = 90 \n",
    "y = 95 \n",
    "z = 87\n",
    "average = (x + y + z)/3\n",
    "average "
   ]
  },
  {
   "cell_type": "code",
   "execution_count": 3,
   "metadata": {},
   "outputs": [
    {
     "data": {
      "text/plain": [
       "0.9"
      ]
     },
     "execution_count": 3,
     "metadata": {},
     "output_type": "execute_result"
    }
   ],
   "source": [
    "# Answer 2e\n",
    "a = 90 / 100\n",
    "a"
   ]
  },
  {
   "cell_type": "code",
   "execution_count": 4,
   "metadata": {},
   "outputs": [
    {
     "data": {
      "text/plain": [
       "0.92"
      ]
     },
     "execution_count": 4,
     "metadata": {},
     "output_type": "execute_result"
    }
   ],
   "source": [
    "b = 46 / 50\n",
    "b"
   ]
  },
  {
   "cell_type": "code",
   "execution_count": 5,
   "metadata": {},
   "outputs": [
    {
     "data": {
      "text/plain": [
       "0.9428571428571428"
      ]
     },
     "execution_count": 5,
     "metadata": {},
     "output_type": "execute_result"
    }
   ],
   "source": [
    "c = 66 / 70\n",
    "c"
   ]
  },
  {
   "cell_type": "code",
   "execution_count": 6,
   "metadata": {},
   "outputs": [
    {
     "data": {
      "text/plain": [
       "0.9166666666666666"
      ]
     },
     "execution_count": 6,
     "metadata": {},
     "output_type": "execute_result"
    }
   ],
   "source": [
    "d = 55/60\n",
    "d"
   ]
  },
  {
   "cell_type": "code",
   "execution_count": 7,
   "metadata": {},
   "outputs": [
    {
     "data": {
      "text/plain": [
       "0.9428571428571428"
      ]
     },
     "execution_count": 7,
     "metadata": {},
     "output_type": "execute_result"
    }
   ],
   "source": [
    "max (a, b, c , d)"
   ]
  },
  {
   "cell_type": "code",
   "execution_count": 15,
   "metadata": {},
   "outputs": [
    {
     "data": {
      "text/plain": [
       "0.9"
      ]
     },
     "execution_count": 15,
     "metadata": {},
     "output_type": "execute_result"
    }
   ],
   "source": [
    "# Answer 2f\n",
    "min (90 / 100, 46 / 50, 55 / 60, 66 / 70 )"
   ]
  },
  {
   "cell_type": "code",
   "execution_count": 16,
   "metadata": {},
   "outputs": [
    {
     "data": {
      "text/plain": [
       "55"
      ]
     },
     "execution_count": 16,
     "metadata": {},
     "output_type": "execute_result"
    }
   ],
   "source": [
    "# Answer 2g\n",
    "s = 0\n",
    "for x in range (0,11):\n",
    "    s = s + x\n",
    "s    "
   ]
  },
  {
   "cell_type": "code",
   "execution_count": 19,
   "metadata": {},
   "outputs": [
    {
     "data": {
      "text/plain": [
       "3628800"
      ]
     },
     "execution_count": 19,
     "metadata": {},
     "output_type": "execute_result"
    }
   ],
   "source": [
    "# Answer 2h\n",
    "s = 1\n",
    "for x in range (1,11):\n",
    "    s = s * x\n",
    "s    "
   ]
  },
  {
   "cell_type": "code",
   "execution_count": 11,
   "metadata": {},
   "outputs": [
    {
     "data": {
      "text/plain": [
       "1073741824"
      ]
     },
     "execution_count": 11,
     "metadata": {},
     "output_type": "execute_result"
    }
   ],
   "source": [
    "# Answer 2i\n",
    "a = 2 ** 30\n",
    "a"
   ]
  },
  {
   "cell_type": "code",
   "execution_count": 1,
   "metadata": {},
   "outputs": [
    {
     "name": "stdout",
     "output_type": "stream",
     "text": [
      "The number of different encodings using 32 bits is: 4294967296\n"
     ]
    }
   ],
   "source": [
    "# Answer 2j\n",
    "\n",
    "# any bit has two states one is ON and another is OFF.\n",
    "\n",
    "a = 2**32\n",
    "print(\"The number of different encodings using 32 bits is:\" ,a)\n"
   ]
  },
  {
   "cell_type": "code",
   "execution_count": 25,
   "metadata": {},
   "outputs": [],
   "source": [
    "# Answer 3a\n",
    "x = 5\n",
    "y = 10\n",
    "z = 8"
   ]
  },
  {
   "cell_type": "code",
   "execution_count": 26,
   "metadata": {},
   "outputs": [
    {
     "name": "stdout",
     "output_type": "stream",
     "text": [
      "Average of x, y, z is: 7.666666666666667\n"
     ]
    }
   ],
   "source": [
    "# Answer 3b\n",
    "\n",
    "average = (x + y + z)/3\n",
    "print ('Average of x, y, z is:' , average)"
   ]
  },
  {
   "cell_type": "code",
   "execution_count": 28,
   "metadata": {},
   "outputs": [
    {
     "name": "stdout",
     "output_type": "stream",
     "text": [
      "10\n"
     ]
    }
   ],
   "source": [
    "# Answer 3c\n",
    "\n",
    "a = max (x, y, z)\n",
    "print (a)"
   ]
  },
  {
   "cell_type": "code",
   "execution_count": 29,
   "metadata": {},
   "outputs": [
    {
     "name": "stdout",
     "output_type": "stream",
     "text": [
      "5\n"
     ]
    }
   ],
   "source": [
    "b = min (x, y, z)\n",
    "print (b)"
   ]
  },
  {
   "cell_type": "code",
   "execution_count": 30,
   "metadata": {},
   "outputs": [
    {
     "name": "stdout",
     "output_type": "stream",
     "text": [
      "23\n"
     ]
    }
   ],
   "source": [
    "c = x + y + z\n",
    "print (c)\n"
   ]
  },
  {
   "cell_type": "code",
   "execution_count": 31,
   "metadata": {},
   "outputs": [
    {
     "name": "stdout",
     "output_type": "stream",
     "text": [
      " Median value among x, y, z is: 8\n"
     ]
    }
   ],
   "source": [
    "# Answer 3d\n",
    "\n",
    "Median = (c - a - b)\n",
    "print (' Median value among x, y, z is:', Median)"
   ]
  },
  {
   "cell_type": "code",
   "execution_count": 32,
   "metadata": {},
   "outputs": [
    {
     "data": {
      "text/plain": [
       "34"
      ]
     },
     "execution_count": 32,
     "metadata": {},
     "output_type": "execute_result"
    }
   ],
   "source": [
    "# Answer 4a\n",
    "\n",
    "len('Supercalifragilisticexpialidocious')"
   ]
  },
  {
   "cell_type": "code",
   "execution_count": 33,
   "metadata": {},
   "outputs": [
    {
     "data": {
      "text/plain": [
       "True"
      ]
     },
     "execution_count": 33,
     "metadata": {},
     "output_type": "execute_result"
    }
   ],
   "source": [
    " # Answer 4b\n",
    "    \n",
    "'ice' in 'Supercalifragilisticexpialidocious'"
   ]
  },
  {
   "cell_type": "code",
   "execution_count": 36,
   "metadata": {},
   "outputs": [
    {
     "name": "stdout",
     "output_type": "stream",
     "text": [
      "The longest word is a for now\n",
      "The longest word are a & c\n"
     ]
    }
   ],
   "source": [
    "# Answer 4c\n",
    "\n",
    "a = len('Supercalifragilisticexpialidocious')\n",
    "b = len('Honorificabilitudinitatibus')\n",
    "c = len('Bababadalgharaghtakamminarronnkonn')\n",
    "if a>=b :\n",
    "    print('The longest word is a for now')\n",
    "else :\n",
    "    print ('The longest word is b for now')\n",
    "    \n",
    "if a >= c:\n",
    "    print ('The longest word are a & c')\n",
    "else :\n",
    "    print(\"The longest word is c\")\n",
    "    "
   ]
  },
  {
   "cell_type": "code",
   "execution_count": 2,
   "metadata": {},
   "outputs": [
    {
     "name": "stdout",
     "output_type": "stream",
     "text": [
      "The first composer in the dictionary is: Bartok\n",
      "The last composer in the dictionary is: Buxtehude\n"
     ]
    }
   ],
   "source": [
    "# Answer 4d\n",
    "\n",
    "list = [ 'Berlioz', 'Borodin', 'Brian', 'Bartok', 'Bellini', 'Buxtehude', 'Bernstein']\n",
    "list.sort()\n",
    "a = list [0]\n",
    "print (\"The first composer in the dictionary is:\",a)\n",
    "b = list[-1]\n",
    "print (\"The last composer in the dictionary is:\",b)"
   ]
  },
  {
   "cell_type": "code",
   "execution_count": 3,
   "metadata": {},
   "outputs": [
    {
     "data": {
      "text/plain": [
       "['Julius', 'Augustus', 'Brutus', 'Cassius']"
      ]
     },
     "execution_count": 3,
     "metadata": {},
     "output_type": "execute_result"
    }
   ],
   "source": [
    "# Answer 5a\n",
    "\n",
    "roman = ['Julius', 'Augustus', 'Brutus',  'Cassius']\n",
    "roman"
   ]
  },
  {
   "cell_type": "code",
   "execution_count": 4,
   "metadata": {},
   "outputs": [
    {
     "data": {
      "text/plain": [
       "['Dickens', 'Austen', 'Henry', 'Elizabeth']"
      ]
     },
     "execution_count": 4,
     "metadata": {},
     "output_type": "execute_result"
    }
   ],
   "source": [
    " # Answer 5b\n",
    "\n",
    "english = ['Dickens', 'Austen', 'Henry',  'Elizabeth']\n",
    "english"
   ]
  },
  {
   "cell_type": "code",
   "execution_count": 7,
   "metadata": {},
   "outputs": [
    {
     "name": "stdout",
     "output_type": "stream",
     "text": [
      "The first two elements of roman and the last two elements of english are:\n",
      " ['Julius', 'Augustus', 'Henry', 'Elizabeth']\n"
     ]
    }
   ],
   "source": [
    "# Answer 5c\n",
    "\n",
    "rulers = [roman[0], roman[1], english[-2], english [-1]]\n",
    "print(\"The first two elements of roman and the last two elements of english are:\\n\" , rulers)"
   ]
  },
  {
   "cell_type": "code",
   "execution_count": 14,
   "metadata": {},
   "outputs": [
    {
     "name": "stdout",
     "output_type": "stream",
     "text": [
      "Lowest score: 81\n",
      "Highestscore: 98\n",
      "Length of list is: 15\n",
      "Sum of numbers: 1311\n",
      "Average score is: 87.4\n"
     ]
    }
   ],
   "source": [
    "# Answer 6a\n",
    "\n",
    "lst = [94, 86, 85, 81, 86, 96, 91, 85, 86, 83, 89, 81, 86, 98, 84]\n",
    "a = min(lst)\n",
    "print('Lowest score:', a)\n",
    "b = max(lst)\n",
    "print ('Highestscore:', b)\n",
    "c = len(lst)\n",
    "print('Length of list is:', c)\n",
    "d = sum(lst)\n",
    "print('Sum of numbers:',d)\n",
    "average = d/c\n",
    "print(\"Average score is:\",average)\n"
   ]
  },
  {
   "cell_type": "code",
   "execution_count": 16,
   "metadata": {},
   "outputs": [
    {
     "name": "stdout",
     "output_type": "stream",
     "text": [
      "Median Score: 86\n"
     ]
    }
   ],
   "source": [
    "# Answer 6b\n",
    "\n",
    "lst.sort()\n",
    "median = lst[round(len(lst)/2)]\n",
    "print(\"Median Score:\",median)"
   ]
  },
  {
   "cell_type": "code",
   "execution_count": 17,
   "metadata": {},
   "outputs": [
    {
     "name": "stdout",
     "output_type": "stream",
     "text": [
      "Sorted list is: [81, 81, 83, 84, 85, 85, 86, 86, 86, 86, 89, 91, 94, 96, 98]\n",
      "The range of the scores is: 17\n"
     ]
    }
   ],
   "source": [
    "# Answer 6c\n",
    "lst = [94, 86, 85, 81, 86, 96, 91, 85, 86, 83, 89, 81, 86, 98, 84]\n",
    "lst.sort()\n",
    "print(\"Sorted list is:\",lst)\n",
    "scores = lst[-1] - lst[0]\n",
    "print(\"The range of the scores is:\", scores)\n"
   ]
  },
  {
   "cell_type": "code",
   "execution_count": 11,
   "metadata": {},
   "outputs": [
    {
     "name": "stdout",
     "output_type": "stream",
     "text": [
      "Number of scores that are 85 is: 2\n"
     ]
    }
   ],
   "source": [
    "# Answer 6d\n",
    "\n",
    "num = lst.count(85)\n",
    "print(\"Number of scores that are 85 is:\", num)"
   ]
  },
  {
   "cell_type": "code",
   "execution_count": 12,
   "metadata": {},
   "outputs": [
    {
     "name": "stdout",
     "output_type": "stream",
     "text": [
      "Enter first name:John\n",
      "Enter middle name:Phillip\n",
      "Enter last name:Sousa\n"
     ]
    },
    {
     "data": {
      "text/plain": [
       "'Sousa, John P.'"
      ]
     },
     "execution_count": 12,
     "metadata": {},
     "output_type": "execute_result"
    }
   ],
   "source": [
    "# Answer 7\n",
    "\n",
    "name = ['first name', 'middle name','last name']\n",
    "Firstname = input('Enter first name:')\n",
    "Middlename = input('Enter middle name:')\n",
    "Lastname = input('Enter last name:')\n",
    "myexpression = [Firstname, Middlename, Lastname]\n",
    "my = str(myexpression[2] + \", \" + myexpression[0] + \" \" +myexpression[1][0] + \".\")\n",
    "my"
   ]
  },
  {
   "cell_type": "code",
   "execution_count": 13,
   "metadata": {},
   "outputs": [
    {
     "name": "stdout",
     "output_type": "stream",
     "text": [
      "Sorted list is:  [0.5, 1, 4, 6, 10]\n",
      "The product of the largest and smallest values in the list is: 5.0\n"
     ]
    }
   ],
   "source": [
    "# Answer 8\n",
    "\n",
    "list = [4, 1, 0.5, 10, 6]\n",
    "list.sort()\n",
    "print(\"Sorted list is: \", list)\n",
    "product = list[0] * list[-1]\n",
    "print(\"The product of the largest and smallest values in the list is:\", product)\n"
   ]
  },
  {
   "cell_type": "code",
   "execution_count": 14,
   "metadata": {},
   "outputs": [
    {
     "name": "stdout",
     "output_type": "stream",
     "text": [
      "Sorted list is:  [0.5, 1, 4, 6, 10]\n",
      "The sum of the second-largest and second-smallest values in the list is: 7\n"
     ]
    }
   ],
   "source": [
    "# Answer 9\n",
    "\n",
    "list = [4, 1, 0.5, 10, 6]\n",
    "list.sort()\n",
    "print(\"Sorted list is: \", list)\n",
    "Add = list[-2] + list [1]\n",
    "print(\"The sum of the second-largest and second-smallest values in the list is:\", Add)\n",
    "\n"
   ]
  },
  {
   "cell_type": "code",
   "execution_count": null,
   "metadata": {},
   "outputs": [],
   "source": []
  }
 ],
 "metadata": {
  "kernelspec": {
   "display_name": "Python 3",
   "language": "python",
   "name": "python3"
  },
  "language_info": {
   "codemirror_mode": {
    "name": "ipython",
    "version": 3
   },
   "file_extension": ".py",
   "mimetype": "text/x-python",
   "name": "python",
   "nbconvert_exporter": "python",
   "pygments_lexer": "ipython3",
   "version": "3.7.3"
  }
 },
 "nbformat": 4,
 "nbformat_minor": 2
}
